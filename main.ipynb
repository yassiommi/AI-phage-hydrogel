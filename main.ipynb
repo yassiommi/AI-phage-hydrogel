{
 "cells": [
  {
   "cell_type": "markdown",
   "metadata": {
    "id": "24HL9ZvLicD_"
   },
   "source": [
    "Companion notebook for the paper: AI-guided phage formulation delivered via injectable hydrogels for localized control of implant-associated infections."
   ]
  },
  {
   "cell_type": "markdown",
   "metadata": {
    "id": "QZMKmGokx1fd"
   },
   "source": [
    "## Libraries"
   ]
  },
  {
   "cell_type": "code",
   "execution_count": null,
   "metadata": {
    "colab": {
     "base_uri": "https://localhost:8080/"
    },
    "id": "3NRDJbRNybVm",
    "outputId": "0058ae4c-2bc4-44d5-9f0c-2f2b952c0477"
   },
   "outputs": [
    {
     "name": "stdout",
     "output_type": "stream",
     "text": [
      "Drive already mounted at /content/drive; to attempt to forcibly remount, call drive.mount(\"/content/drive\", force_remount=True).\n"
     ]
    }
   ],
   "source": [
    "# mount drive\n",
    "from google.colab import drive\n",
    "drive.mount('/content/drive')"
   ]
  },
  {
   "cell_type": "code",
   "execution_count": null,
   "metadata": {
    "id": "REy8PAy2xxKj"
   },
   "outputs": [],
   "source": [
    "%%capture\n",
    "! pip install biopython transformers datasets pathlib hdbscan"
   ]
  },
  {
   "cell_type": "code",
   "execution_count": null,
   "metadata": {
    "id": "k9l6mEicyBd0"
   },
   "outputs": [],
   "source": [
    "from Bio import Entrez\n",
    "import pandas as pd, json, time, joblib"
   ]
  },
  {
   "cell_type": "markdown",
   "metadata": {
    "id": "RBCRl2UgyPpM"
   },
   "source": [
    "## Data Prep"
   ]
  },
  {
   "cell_type": "code",
   "execution_count": null,
   "metadata": {
    "id": "xpSmtLxyyZU8"
   },
   "outputs": [],
   "source": [
    "df = pd.read_csv('/content/drive/MyDrive/fereshte/cleaned_with_acc.csv')\n",
    "df.head()"
   ]
  },
  {
   "cell_type": "markdown",
   "metadata": {
    "id": "PL1h4xTpySvF"
   },
   "source": [
    "### Read FASTA Files"
   ]
  },
  {
   "cell_type": "code",
   "execution_count": null,
   "metadata": {
    "colab": {
     "base_uri": "https://localhost:8080/"
    },
    "id": "M8GqG6LMyO_C",
    "outputId": "d552fbc1-e75a-4df4-e236-0cf3dc675ebb"
   },
   "outputs": [
    {
     "name": "stdout",
     "output_type": "stream",
     "text": [
      "Loaded 331 genomes, missing 0\n",
      "First few lengths: [94315, 131681, 14942, 41243, 97177]\n"
     ]
    }
   ],
   "source": [
    "from pathlib import Path\n",
    "from Bio import SeqIO\n",
    "\n",
    "GENOMES_DIR = Path(\"/content/drive/MyDrive/fereshte/genomes\")  # ← adjust if needed\n",
    "\n",
    "wanted  = df[\"ncbi_acc\"].dropna().unique()   # accessions we expect\n",
    "seqs    = {}          # {acc : DNA string}\n",
    "missing = []          # list of accs without a file\n",
    "\n",
    "for acc in wanted:\n",
    "    fpath = GENOMES_DIR / f\"{acc}.fasta\"\n",
    "    if fpath.exists():\n",
    "        seqs[acc] = str(next(SeqIO.parse(fpath, \"fasta\")).seq)\n",
    "    else:\n",
    "        missing.append(acc)\n",
    "\n",
    "print(f\"Loaded {len(seqs)} genomes, missing {len(missing)}\")\n",
    "print(\"First few lengths:\", [len(s) for s in list(seqs.values())[:5]])"
   ]
  },
  {
   "cell_type": "markdown",
   "metadata": {
    "id": "a1RUE9vYzMWx"
   },
   "source": [
    "### DNABert"
   ]
  },
  {
   "cell_type": "code",
   "execution_count": null,
   "metadata": {
    "colab": {
     "base_uri": "https://localhost:8080/"
    },
    "id": "uqGYwH4Ey4uE",
    "outputId": "db41dbd0-82b3-4311-8fee-fd228de44191"
   },
   "outputs": [
    {
     "data": {
      "text/plain": [
       "BertModel(\n",
       "  (embeddings): BertEmbeddings(\n",
       "    (word_embeddings): Embedding(4101, 768, padding_idx=0)\n",
       "    (position_embeddings): Embedding(512, 768)\n",
       "    (token_type_embeddings): Embedding(2, 768)\n",
       "    (LayerNorm): LayerNorm((768,), eps=1e-12, elementwise_affine=True)\n",
       "    (dropout): Dropout(p=0.1, inplace=False)\n",
       "  )\n",
       "  (encoder): BertEncoder(\n",
       "    (layer): ModuleList(\n",
       "      (0-11): 12 x BertLayer(\n",
       "        (attention): BertAttention(\n",
       "          (self): BertSdpaSelfAttention(\n",
       "            (query): Linear(in_features=768, out_features=768, bias=True)\n",
       "            (key): Linear(in_features=768, out_features=768, bias=True)\n",
       "            (value): Linear(in_features=768, out_features=768, bias=True)\n",
       "            (dropout): Dropout(p=0.1, inplace=False)\n",
       "          )\n",
       "          (output): BertSelfOutput(\n",
       "            (dense): Linear(in_features=768, out_features=768, bias=True)\n",
       "            (LayerNorm): LayerNorm((768,), eps=1e-12, elementwise_affine=True)\n",
       "            (dropout): Dropout(p=0.1, inplace=False)\n",
       "          )\n",
       "        )\n",
       "        (intermediate): BertIntermediate(\n",
       "          (dense): Linear(in_features=768, out_features=3072, bias=True)\n",
       "          (intermediate_act_fn): GELUActivation()\n",
       "        )\n",
       "        (output): BertOutput(\n",
       "          (dense): Linear(in_features=3072, out_features=768, bias=True)\n",
       "          (LayerNorm): LayerNorm((768,), eps=1e-12, elementwise_affine=True)\n",
       "          (dropout): Dropout(p=0.1, inplace=False)\n",
       "        )\n",
       "      )\n",
       "    )\n",
       "  )\n",
       "  (pooler): BertPooler(\n",
       "    (dense): Linear(in_features=768, out_features=768, bias=True)\n",
       "    (activation): Tanh()\n",
       "  )\n",
       ")"
      ]
     },
     "execution_count": 23,
     "metadata": {},
     "output_type": "execute_result"
    }
   ],
   "source": [
    "import torch, numpy as np\n",
    "from transformers import AutoTokenizer, AutoModel\n",
    "\n",
    "# load DNABERT‑6‑mer\n",
    "tok = AutoTokenizer.from_pretrained(\"zhihan1996/DNA_bert_6\",\n",
    "                                    trust_remote_code=True)\n",
    "bert = AutoModel.from_pretrained(\"zhihan1996/DNA_bert_6\",\n",
    "                                 trust_remote_code=True).eval()\n",
    "device = \"cuda\" if torch.cuda.is_available() else \"cpu\"\n",
    "bert.to(device)"
   ]
  },
  {
   "cell_type": "code",
   "execution_count": null,
   "metadata": {
    "id": "-RylSmVhzqVz"
   },
   "outputs": [],
   "source": [
    "def embed_sequence(seq, k=6, window=510, stride=250):\n",
    "    seq = seq.upper().replace(\"N\", \"\")\n",
    "    windows = [\n",
    "        \" \".join(seq[i+j : i+j+k] for j in range(window))\n",
    "        for i in range(0, len(seq) - k - window + 1, stride)\n",
    "    ]\n",
    "    enc = tok(windows, return_tensors=\"pt\", padding=True,\n",
    "              truncation=True, max_length=512)\n",
    "    enc = {k: v.to(device) for k, v in enc.items()}\n",
    "    with torch.no_grad():\n",
    "        out = bert(**enc).last_hidden_state[:, 0, :]     # CLS (n_win × 768)\n",
    "    return out.mean(0).cpu().numpy()                     # 768‑d vector"
   ]
  },
  {
   "cell_type": "markdown",
   "metadata": {
    "id": "mOppFC2Q00OI"
   },
   "source": [
    "#### test"
   ]
  },
  {
   "cell_type": "code",
   "execution_count": null,
   "metadata": {
    "colab": {
     "base_uri": "https://localhost:8080/"
    },
    "id": "i8Sr1sJHzVx9",
    "outputId": "55abdd1b-3de9-479a-9942-3ce844759cbc"
   },
   "outputs": [
    {
     "name": "stdout",
     "output_type": "stream",
     "text": [
      "NC_073607.1 (768,)\n",
      "2.357314348220825\n"
     ]
    }
   ],
   "source": [
    "import time\n",
    "now = time.time()\n",
    "# test on the first genome we loaded earlier\n",
    "first_acc   = next(iter(seqs))\n",
    "test_embed  = embed_sequence(seqs[first_acc])\n",
    "print(first_acc, test_embed.shape)   # should print “… (768,)”\n",
    "print(time.time()-now)"
   ]
  },
  {
   "cell_type": "code",
   "execution_count": null,
   "metadata": {
    "colab": {
     "base_uri": "https://localhost:8080/",
     "height": 393,
     "referenced_widgets": [
      "c2d01abf7188401abf1520d65408291d",
      "0b7351ca03814c54ba7769cc6618596b",
      "721194a86f4b46d9ba281a17a7b0b3d8",
      "078f4b2546d546fab409c8f364f34e1f",
      "87f8a4087b7a41df8168daae69593770",
      "7fbacd8276294889942146cfaa38a1a2",
      "6670fc5e423a4e198f7631806ef7c9f2",
      "4205a0bb7d1d4b32a6577174cb62e6a9",
      "b961c541254e43b68090a4330e62c666",
      "622f7804cd464d0cab2737b0e66dc394",
      "a1d58a741ff1466f8922ee50876ae5d2"
     ]
    },
    "id": "zSm0qcmOzhNN",
    "outputId": "e844014b-1bd1-4a7b-8f6d-5e14375cbb8a"
   },
   "outputs": [
    {
     "data": {
      "application/vnd.jupyter.widget-view+json": {
       "model_id": "c2d01abf7188401abf1520d65408291d",
       "version_major": 2,
       "version_minor": 0
      },
      "text/plain": [
       "Embedding genomes:   0%|          | 0/331 [00:00<?, ?it/s]"
      ]
     },
     "metadata": {},
     "output_type": "display_data"
    },
    {
     "name": "stdout",
     "output_type": "stream",
     "text": [
      "⚠️  NC_048170.1: CUDA out of memory. Tried to allocate 5.55 GiB. GPU 0 has a total capacity of 39.56 GiB of which 674.88 MiB is free. Process 3725 has 38.89 GiB memory in use. Of the allocated memory 29.85 GiB is allocated by PyTorch, and 8.55 GiB is reserved by PyTorch but unallocated. If reserved but unallocated memory is large try setting PYTORCH_CUDA_ALLOC_CONF=expandable_segments:True to avoid fragmentation.  See documentation for Memory Management  (https://pytorch.org/docs/stable/notes/cuda.html#environment-variables)\n",
      "⚠️  NC_071039.1: CUDA out of memory. Tried to allocate 6.71 GiB. GPU 0 has a total capacity of 39.56 GiB of which 5.04 GiB is free. Process 3725 has 34.51 GiB memory in use. Of the allocated memory 22.61 GiB is allocated by PyTorch, and 11.41 GiB is reserved by PyTorch but unallocated. If reserved but unallocated memory is large try setting PYTORCH_CUDA_ALLOC_CONF=expandable_segments:True to avoid fragmentation.  See documentation for Memory Management  (https://pytorch.org/docs/stable/notes/cuda.html#environment-variables)\n"
     ]
    },
    {
     "ename": "KeyboardInterrupt",
     "evalue": "",
     "output_type": "error",
     "traceback": [
      "\u001b[0;31m---------------------------------------------------------------------------\u001b[0m",
      "\u001b[0;31mKeyboardInterrupt\u001b[0m                         Traceback (most recent call last)",
      "\u001b[0;32m<ipython-input-26-c12c6575e8c1>\u001b[0m in \u001b[0;36m<cell line: 0>\u001b[0;34m()\u001b[0m\n\u001b[1;32m      8\u001b[0m \u001b[0;32mfor\u001b[0m \u001b[0macc\u001b[0m\u001b[0;34m,\u001b[0m \u001b[0mseq\u001b[0m \u001b[0;32min\u001b[0m \u001b[0mtqdm\u001b[0m\u001b[0;34m(\u001b[0m\u001b[0mseqs\u001b[0m\u001b[0;34m.\u001b[0m\u001b[0mitems\u001b[0m\u001b[0;34m(\u001b[0m\u001b[0;34m)\u001b[0m\u001b[0;34m,\u001b[0m \u001b[0mdesc\u001b[0m\u001b[0;34m=\u001b[0m\u001b[0;34m\"Embedding genomes\"\u001b[0m\u001b[0;34m)\u001b[0m\u001b[0;34m:\u001b[0m\u001b[0;34m\u001b[0m\u001b[0;34m\u001b[0m\u001b[0m\n\u001b[1;32m      9\u001b[0m     \u001b[0;32mtry\u001b[0m\u001b[0;34m:\u001b[0m\u001b[0;34m\u001b[0m\u001b[0;34m\u001b[0m\u001b[0m\n\u001b[0;32m---> 10\u001b[0;31m         \u001b[0mvec\u001b[0m \u001b[0;34m=\u001b[0m \u001b[0membed_sequence\u001b[0m\u001b[0;34m(\u001b[0m\u001b[0mseq\u001b[0m\u001b[0;34m)\u001b[0m\u001b[0;34m\u001b[0m\u001b[0;34m\u001b[0m\u001b[0m\n\u001b[0m\u001b[1;32m     11\u001b[0m         \u001b[0membeddings\u001b[0m\u001b[0;34m.\u001b[0m\u001b[0mappend\u001b[0m\u001b[0;34m(\u001b[0m\u001b[0mvec\u001b[0m\u001b[0;34m)\u001b[0m\u001b[0;34m\u001b[0m\u001b[0;34m\u001b[0m\u001b[0m\n\u001b[1;32m     12\u001b[0m         \u001b[0mgood_acc\u001b[0m\u001b[0;34m.\u001b[0m\u001b[0mappend\u001b[0m\u001b[0;34m(\u001b[0m\u001b[0macc\u001b[0m\u001b[0;34m)\u001b[0m\u001b[0;34m\u001b[0m\u001b[0;34m\u001b[0m\u001b[0m\n",
      "\u001b[0;32m<ipython-input-24-60f7e0302acf>\u001b[0m in \u001b[0;36membed_sequence\u001b[0;34m(seq, k, window, stride)\u001b[0m\n\u001b[1;32m     10\u001b[0m     \u001b[0;32mwith\u001b[0m \u001b[0mtorch\u001b[0m\u001b[0;34m.\u001b[0m\u001b[0mno_grad\u001b[0m\u001b[0;34m(\u001b[0m\u001b[0;34m)\u001b[0m\u001b[0;34m:\u001b[0m\u001b[0;34m\u001b[0m\u001b[0;34m\u001b[0m\u001b[0m\n\u001b[1;32m     11\u001b[0m         \u001b[0mout\u001b[0m \u001b[0;34m=\u001b[0m \u001b[0mbert\u001b[0m\u001b[0;34m(\u001b[0m\u001b[0;34m**\u001b[0m\u001b[0menc\u001b[0m\u001b[0;34m)\u001b[0m\u001b[0;34m.\u001b[0m\u001b[0mlast_hidden_state\u001b[0m\u001b[0;34m[\u001b[0m\u001b[0;34m:\u001b[0m\u001b[0;34m,\u001b[0m \u001b[0;36m0\u001b[0m\u001b[0;34m,\u001b[0m \u001b[0;34m:\u001b[0m\u001b[0;34m]\u001b[0m     \u001b[0;31m# CLS (n_win × 768)\u001b[0m\u001b[0;34m\u001b[0m\u001b[0;34m\u001b[0m\u001b[0m\n\u001b[0;32m---> 12\u001b[0;31m     \u001b[0;32mreturn\u001b[0m \u001b[0mout\u001b[0m\u001b[0;34m.\u001b[0m\u001b[0mmean\u001b[0m\u001b[0;34m(\u001b[0m\u001b[0;36m0\u001b[0m\u001b[0;34m)\u001b[0m\u001b[0;34m.\u001b[0m\u001b[0mcpu\u001b[0m\u001b[0;34m(\u001b[0m\u001b[0;34m)\u001b[0m\u001b[0;34m.\u001b[0m\u001b[0mnumpy\u001b[0m\u001b[0;34m(\u001b[0m\u001b[0;34m)\u001b[0m                     \u001b[0;31m# 768‑d vector\u001b[0m\u001b[0;34m\u001b[0m\u001b[0;34m\u001b[0m\u001b[0m\n\u001b[0m",
      "\u001b[0;31mKeyboardInterrupt\u001b[0m: "
     ]
    }
   ],
   "source": [
    "from tqdm.auto import tqdm          # progress bar\n",
    "import joblib                       # fast pickle\n",
    "\n",
    "embeddings = []\n",
    "good_acc   = []\n",
    "failed_acc = []\n",
    "\n",
    "for acc, seq in tqdm(seqs.items(), desc=\"Embedding genomes\"):\n",
    "    try:\n",
    "        vec = embed_sequence(seq)\n",
    "        embeddings.append(vec)\n",
    "        good_acc.append(acc)\n",
    "    except Exception as e:\n",
    "        print(f\"⚠️  {acc}: {e}\")\n",
    "        failed_acc.append(acc)\n",
    "\n",
    "print(f\"Done: {len(good_acc)} embedded, {len(failed_acc)} failed\")\n",
    "\n",
    "# put embeddings into a dataframe\n",
    "emb_df = pd.DataFrame(embeddings, index=good_acc)\n",
    "emb_df.columns = [f\"emb_{i}\" for i in range(768)]   # nice column names\n",
    "emb_df[\"ncbi_acc\"] = emb_df.index                   # restore key\n",
    "\n",
    "# merge onto the main metadata table\n",
    "df_emb = df.merge(emb_df, on=\"ncbi_acc\", how=\"left\")\n",
    "\n",
    "# save for reuse\n",
    "joblib.dump(df_emb, \"/content/drive/MyDrive/fereshte/phage_with_dnabert.pkl\")\n",
    "print(\"✅  Saved embeddings to phage_with_dnabert.pkl\")\n"
   ]
  },
  {
   "cell_type": "code",
   "execution_count": null,
   "metadata": {
    "id": "x3rDEKyj136W"
   },
   "outputs": [],
   "source": [
    "df_emb = joblib.load(\"/content/drive/MyDrive/fereshte/phage_with_dnabert.pkl\")\n",
    "df_emb = df_emb.dropna(subset=['ncbi_acc'])"
   ]
  },
  {
   "cell_type": "markdown",
   "metadata": {
    "id": "wvmIfdQi2avQ"
   },
   "source": [
    "### Pharokka + Phold"
   ]
  },
  {
   "cell_type": "markdown",
   "metadata": {
    "id": "T6-y4PoG2lPp"
   },
   "source": [
    "### Installation"
   ]
  },
  {
   "cell_type": "code",
   "execution_count": null,
   "metadata": {
    "colab": {
     "base_uri": "https://localhost:8080/"
    },
    "id": "cHRTrb-W2QQ2",
    "outputId": "03bef1dd-572f-4e8f-c5df-313f1fbddfc2"
   },
   "outputs": [
    {
     "name": "stdout",
     "output_type": "stream",
     "text": [
      "Process is terminated.\n"
     ]
    }
   ],
   "source": [
    "%%bash\n",
    "\n",
    "set -e\n",
    "\n",
    "PYTHON_VERSION=\"3.10\"\n",
    "PHAROKKA_VERSION=\"1.7.5\"\n",
    "PHOLD_VERSION=\"0.2.0\"\n",
    "\n",
    "echo \"python version ${PYTHON_VERSION}\"\n",
    "\n",
    "if [ ! -f CONDA_READY ]; then\n",
    "  echo \"installing python\"\n",
    "  wget -qnc https://repo.anaconda.com/miniconda/Miniconda3-latest-Linux-x86_64.sh\n",
    "  bash Miniconda3-latest-Linux-x86_64.sh -bfp /usr/local 2>&1 1>/dev/null\n",
    "  rm Miniconda3-latest-Linux-x86_64.sh\n",
    "  conda config --set auto_update_conda false\n",
    "  touch CONDA_READY\n",
    "fi\n",
    "\n",
    "if [ ! -f PHAROKKA_PHOLD_READY ]; then\n",
    "  echo \"installing pharokka and phold\"\n",
    "  conda install -y -c conda-forge -c bioconda pip pharokka==${PHAROKKA_VERSION} python=${PYTHON_VERSION} phold==${PHOLD_VERSION} pytorch=*=cuda*\n",
    "  touch PHAROKKA_PHOLD_READY\n",
    "fi"
   ]
  },
  {
   "cell_type": "code",
   "execution_count": null,
   "metadata": {
    "id": "7FoExExG2qa9"
   },
   "outputs": [],
   "source": [
    "# Download pharokka phold databases\n",
    "# It will take some time (5-10 minutes probably). Please be patient. :/\n",
    "\n",
    "%%time\n",
    "import os\n",
    "print(\"Downloading pharokka database. This will take a few minutes. Please be patient :)\")\n",
    "os.system(\"install_databases.py -o pharokka_db\")\n",
    "print(\"Downloading phold database. This will take a few minutes. Please be patient :)\")\n",
    "os.system(\"phold install -d phold_db\")"
   ]
  },
  {
   "cell_type": "markdown",
   "metadata": {
    "id": "irwkxeM029X4"
   },
   "source": [
    "#### Run Them"
   ]
  },
  {
   "cell_type": "code",
   "execution_count": null,
   "metadata": {
    "colab": {
     "base_uri": "https://localhost:8080/",
     "height": 305
    },
    "id": "m5tcMyY-28jZ",
    "outputId": "61433f3f-10f5-42e2-d1c6-354b7295a256"
   },
   "outputs": [
    {
     "name": "stderr",
     "output_type": "stream",
     "text": [
      "Annotating:   0%|          | 0/331 [00:00<?, ?it/s]\n"
     ]
    },
    {
     "ename": "CalledProcessError",
     "evalue": "Command 'pharokka.py -d pharokka_db -i /content/drive/MyDrive/fereshte/genomes/AB823818.1.fasta -t 4 -o /content/drive/MyDrive/fereshte/pharokka/AB823818.1 -p AB823818.1 -l AB823818.1 -g phanotate --fast -f' returned non-zero exit status 127.",
     "output_type": "error",
     "traceback": [
      "\u001b[0;31m---------------------------------------------------------------------------\u001b[0m",
      "\u001b[0;31mCalledProcessError\u001b[0m                        Traceback (most recent call last)",
      "\u001b[0;32m<timed exec>\u001b[0m in \u001b[0;36m<module>\u001b[0;34m\u001b[0m\n",
      "\u001b[0;32m/usr/lib/python3.11/subprocess.py\u001b[0m in \u001b[0;36mrun\u001b[0;34m(input, capture_output, timeout, check, *popenargs, **kwargs)\u001b[0m\n\u001b[1;32m    569\u001b[0m         \u001b[0mretcode\u001b[0m \u001b[0;34m=\u001b[0m \u001b[0mprocess\u001b[0m\u001b[0;34m.\u001b[0m\u001b[0mpoll\u001b[0m\u001b[0;34m(\u001b[0m\u001b[0;34m)\u001b[0m\u001b[0;34m\u001b[0m\u001b[0;34m\u001b[0m\u001b[0m\n\u001b[1;32m    570\u001b[0m         \u001b[0;32mif\u001b[0m \u001b[0mcheck\u001b[0m \u001b[0;32mand\u001b[0m \u001b[0mretcode\u001b[0m\u001b[0;34m:\u001b[0m\u001b[0;34m\u001b[0m\u001b[0;34m\u001b[0m\u001b[0m\n\u001b[0;32m--> 571\u001b[0;31m             raise CalledProcessError(retcode, process.args,\n\u001b[0m\u001b[1;32m    572\u001b[0m                                      output=stdout, stderr=stderr)\n\u001b[1;32m    573\u001b[0m     \u001b[0;32mreturn\u001b[0m \u001b[0mCompletedProcess\u001b[0m\u001b[0;34m(\u001b[0m\u001b[0mprocess\u001b[0m\u001b[0;34m.\u001b[0m\u001b[0margs\u001b[0m\u001b[0;34m,\u001b[0m \u001b[0mretcode\u001b[0m\u001b[0;34m,\u001b[0m \u001b[0mstdout\u001b[0m\u001b[0;34m,\u001b[0m \u001b[0mstderr\u001b[0m\u001b[0;34m)\u001b[0m\u001b[0;34m\u001b[0m\u001b[0;34m\u001b[0m\u001b[0m\n",
      "\u001b[0;31mCalledProcessError\u001b[0m: Command 'pharokka.py -d pharokka_db -i /content/drive/MyDrive/fereshte/genomes/AB823818.1.fasta -t 4 -o /content/drive/MyDrive/fereshte/pharokka/AB823818.1 -p AB823818.1 -l AB823818.1 -g phanotate --fast -f' returned non-zero exit status 127."
     ]
    }
   ],
   "source": [
    "%%time\n",
    "import os, sys, subprocess, glob, pandas as pd, zipfile, tqdm\n",
    "\n",
    "# ─────────────────────────────────────────────────────────────\n",
    "# CONFIG — tweak only if your paths or prefs differ\n",
    "INPUT_DIR        = \"/content/drive/MyDrive/fereshte/genomes\"\n",
    "OUTPUT_ROOT      = \"/content/drive/MyDrive/fereshte/pharokka\"\n",
    "PHAROKKA_DB      = \"pharokka_db\"   # folder with the downloaded DB\n",
    "PHOLD_DB         = \"phold_db\"      # folder with the downloaded DB\n",
    "THREADS          = 4               # Colab Pro: leave 4 for safety\n",
    "GENE_PREDICTOR   = \"phanotate\"     # 'phanotate', 'prodigal', 'prodigal-gv'\n",
    "FAST_MODE        = True            # adds --fast to Pharokka\n",
    "FORCE_REWRITE    = True            # overwrite existing outputs\n",
    "ZIP_EACH_SAMPLE  = False           # set True if you want zipped folders\n",
    "# ─────────────────────────────────────────────────────────────\n",
    "\n",
    "allowed_predictors = {'phanotate', 'prodigal', 'prodigal-gv'}\n",
    "if GENE_PREDICTOR not in allowed_predictors:\n",
    "    raise ValueError(f\"GENE_PREDICTOR must be one of {allowed_predictors}\")\n",
    "\n",
    "fasta_paths = sorted(glob.glob(os.path.join(INPUT_DIR, \"*.f*\")))\n",
    "if not fasta_paths:\n",
    "    sys.exit(f\"No FASTA files found in {INPUT_DIR}\")\n",
    "\n",
    "manifest_rows = []\n",
    "\n",
    "for fasta in tqdm.tqdm(fasta_paths, desc=\"Annotating\"):\n",
    "    sample = os.path.splitext(os.path.basename(fasta))[0]   # “AB823818.1”\n",
    "    out_dir = os.path.join(OUTPUT_ROOT, sample)\n",
    "    os.makedirs(out_dir, exist_ok=True)\n",
    "\n",
    "    # ——— Pharokka\n",
    "    pharokka_prefix = sample            # keeps filenames unique\n",
    "    cmd_pharokka = (\n",
    "        f\"pharokka.py -d {PHAROKKA_DB}\"\n",
    "        f\" -i {fasta}\"\n",
    "        f\" -t {THREADS}\"\n",
    "        f\" -o {out_dir}\"\n",
    "        f\" -p {pharokka_prefix}\"\n",
    "        f\" -l {sample}\"                 # locus tag = sample\n",
    "        f\" -g {GENE_PREDICTOR}\"\n",
    "    )\n",
    "    if FAST_MODE:   cmd_pharokka += \" --fast\"\n",
    "    if FORCE_REWRITE: cmd_pharokka += \" -f\"\n",
    "\n",
    "    subprocess.run(cmd_pharokka, shell=True, check=True)\n",
    "\n",
    "    # path to the GenBank file Pharokka just wrote\n",
    "    gbk_file = os.path.join(out_dir, f\"{pharokka_prefix}.gbk\")\n",
    "    if not os.path.exists(gbk_file):\n",
    "        raise FileNotFoundError(f\"Expected {gbk_file} not found\")\n",
    "\n",
    "    # ——— PHold\n",
    "    phold_out = os.path.join(out_dir, \"phold\")\n",
    "    os.makedirs(phold_out, exist_ok=True)\n",
    "    cmd_phold = (\n",
    "        f\"phold run -i {gbk_file}\"\n",
    "        f\" -t {THREADS}\"\n",
    "        f\" -o {phold_out}\"\n",
    "        f\" -p phold\"\n",
    "        f\" -d {PHOLD_DB}\"\n",
    "    )\n",
    "    if FORCE_REWRITE: cmd_phold += \" -f\"\n",
    "    subprocess.run(cmd_phold, shell=True, check=True)\n",
    "\n",
    "    # ——— optional zip\n",
    "    if ZIP_EACH_SAMPLE:\n",
    "        zip_path = f\"{out_dir}.zip\"\n",
    "        with zipfile.ZipFile(zip_path, \"w\", zipfile.ZIP_DEFLATED) as zipf:\n",
    "            for root, _, files in os.walk(out_dir):\n",
    "                for file in files:\n",
    "                    fp = os.path.join(root, file)\n",
    "                    zipf.write(fp, os.path.relpath(fp, out_dir))\n",
    "\n",
    "    # ——— record for manifest\n",
    "    manifest_rows.append({\n",
    "        \"sample\":            sample,\n",
    "        \"fasta\":             fasta,\n",
    "        \"pharokka_gff\":      os.path.join(out_dir, f\"{pharokka_prefix}.gff\"),\n",
    "        \"pharokka_funcs\":    os.path.join(out_dir, f\"{pharokka_prefix}_cds_functions.tsv\"),\n",
    "        \"phold_per_cds\":     os.path.join(phold_out, \"phold_per_cds_predictions.tsv\"),\n",
    "        \"phold_all_cds\":     os.path.join(phold_out, \"phold_all_cds_functions.tsv\"),\n",
    "    })\n",
    "\n",
    "# ——— save manifest\n",
    "manifest = pd.DataFrame(manifest_rows)\n",
    "manifest_path = os.path.join(OUTPUT_ROOT, \"analysis_manifest.csv\")\n",
    "manifest.to_csv(manifest_path, index=False)\n",
    "print(f\"\\n✓ All done. Manifest saved → {manifest_path}  ({len(manifest)} genomes)\")"
   ]
  },
  {
   "cell_type": "markdown",
   "metadata": {
    "id": "sr6ppdvgJsvq"
   },
   "source": [
    "### Load the manifest"
   ]
  },
  {
   "cell_type": "code",
   "execution_count": null,
   "metadata": {
    "id": "TY9s-_CQJvDN"
   },
   "outputs": [],
   "source": [
    "%%time\n",
    "import pandas as pd, os, glob\n",
    "\n",
    "HOST_FILTER   = \"Pseudomonas aeruginosa\"\n",
    "MANIFEST      = \"/content/drive/MyDrive/fereshte/pharokka/analysis_manifest.csv\"\n",
    "PHAROKKA_ROOT = \"/content/drive/MyDrive/fereshte/pharokka\"\n",
    "\n",
    "emb_pa = df_emb[df_emb[\"host_full\"] == HOST_FILTER].copy()\n",
    "print(f\"Phages with host {HOST_FILTER}: {len(emb_pa)}\")\n",
    "\n",
    "meta = pd.read_csv(MANIFEST)\n",
    "meta_pa = meta[meta[\"sample\"].isin(emb_pa[\"ncbi_acc\"])]\n",
    "print(f\"Matching Pharokka annotations found: {len(meta_pa)}\")\n",
    "\n",
    "# parse\n",
    "def parse_one(row):\n",
    "    sample = row[\"sample\"]\n",
    "    outdir = os.path.join(PHAROKKA_ROOT, sample)\n",
    "\n",
    "    # cds_functions.tsv  (Description ↦ Count)\n",
    "    func_tsv = row[\"pharokka_funcs\"]\n",
    "    f_df = pd.read_csv(func_tsv, sep=\"\\t\")\n",
    "    func_dict = f_df.set_index(\"Description\")[\"Count\"].to_dict()\n",
    "\n",
    "    # length / GC / coding density\n",
    "    len_tsv = glob.glob(os.path.join(outdir, \"*_length_gc_cds_density.tsv\"))[0]\n",
    "    l_df = pd.read_csv(len_tsv, sep=\"\\t\")\n",
    "    len_dict = l_df.iloc[0][[\"length\", \"gc_perc\", \"cds_coding_density\"]].to_dict()\n",
    "\n",
    "    return {\n",
    "        \"ncbi_acc\": sample,\n",
    "        **{f\"FUNC_{k}\": v for k, v in func_dict.items()},\n",
    "        **len_dict,\n",
    "    }\n",
    "\n",
    "feat_rows = [parse_one(r) for _, r in meta_pa.iterrows()]\n",
    "feat_df = (\n",
    "    pd.DataFrame(feat_rows)\n",
    "      .fillna(0)\n",
    "      .set_index(\"ncbi_acc\")\n",
    ")\n",
    "\n",
    "# merge\n",
    "full_df = (\n",
    "    emb_pa.set_index(\"ncbi_acc\")\n",
    "          .join(feat_df, how=\"inner\")\n",
    "          .reset_index()\n",
    ")\n",
    "\n",
    "print(\"Merged dataframe shape:\", full_df.shape)\n",
    "display(full_df.head())\n"
   ]
  },
  {
   "cell_type": "code",
   "execution_count": null,
   "metadata": {
    "id": "hVs3iHeXo4RT"
   },
   "outputs": [],
   "source": [
    "full_df.to_csv(\"/content/drive/MyDrive/fereshte/PA_phage_with_dnabert_and_pharokka.csv\", index=False)"
   ]
  },
  {
   "cell_type": "markdown",
   "metadata": {
    "id": "WfGtZmofpSC-"
   },
   "source": [
    "## Clustering"
   ]
  },
  {
   "cell_type": "code",
   "execution_count": null,
   "metadata": {
    "colab": {
     "base_uri": "https://localhost:8080/",
     "height": 870
    },
    "id": "jKZtkNuIwF3P",
    "outputId": "af21b578-d9a1-44e9-f539-7e5b287bb0a0"
   },
   "outputs": [
    {
     "name": "stderr",
     "output_type": "stream",
     "text": [
      "/usr/local/lib/python3.11/dist-packages/sklearn/utils/deprecation.py:151: FutureWarning: 'force_all_finite' was renamed to 'ensure_all_finite' in 1.6 and will be removed in 1.8.\n",
      "  warnings.warn(\n",
      "/usr/local/lib/python3.11/dist-packages/umap/umap_.py:1952: UserWarning: n_jobs value 1 overridden to 1 by setting random_state. Use no seed for parallelism.\n",
      "  warn(\n",
      "/usr/local/lib/python3.11/dist-packages/sklearn/utils/deprecation.py:151: FutureWarning: 'force_all_finite' was renamed to 'ensure_all_finite' in 1.6 and will be removed in 1.8.\n",
      "  warnings.warn(\n"
     ]
    },
    {
     "data": {
      "image/png": "[encoded data removed]",
      "text/plain": [
       "<Figure size 900x700 with 1 Axes>"
      ]
     },
     "metadata": {},
     "output_type": "display_data"
    },
    {
     "name": "stdout",
     "output_type": "stream",
     "text": [
      "CPU times: user 200 ms, sys: 2.93 ms, total: 203 ms\n",
      "Wall time: 2.49 s\n"
     ]
    }
   ],
   "source": [
    "%%time\n",
    "# one‑time install (skip if umap‑learn is already present)\n",
    "!pip -q install umap-learn\n",
    "\n",
    "import numpy as np, pandas as pd, matplotlib.pyplot as plt\n",
    "import umap.umap_ as umap\n",
    "from sklearn.preprocessing import StandardScaler\n",
    "\n",
    "# feature matrix\n",
    "embed_cols = [c for c in full_df.columns if c.startswith(\"embed_\")]\n",
    "func_cols  = [c for c in full_df.columns\n",
    "              if c.startswith(\"FUNC_\") or c in ['length','gc_perc','cds_coding_density']]\n",
    "\n",
    "\n",
    "X = full_df[embed_cols + func_cols].astype(float).to_numpy()\n",
    "X = StandardScaler().fit_transform(X)\n",
    "\n",
    "umap = umap.UMAP(\n",
    "    n_neighbors=10,\n",
    "    min_dist=0.4,           # smaller = tighter blobs\n",
    "    random_state=0\n",
    ")\n",
    "xy = umap.fit_transform(X)\n",
    "\n",
    "# plot\n",
    "y = np.arange(len(full_df)) % 2  # dummy colors for visualization\n",
    "plt.figure(figsize=(9,7))\n",
    "plt.scatter(xy[:,0], xy[:,1], c=y, s=60, alpha=0.9)\n",
    "\n",
    "for i, name in enumerate(full_df['phage']):\n",
    "    if name in [\"E79\", \"JG004\", \"PO4\", \"PP7\", \"P32\"]:\n",
    "      plt.text(xy[i,0] + 0.25, xy[i,1] + 0.25, name, fontsize=8)\n",
    "\n",
    "# plt.title(\"\", pad=15)\n",
    "plt.xlabel(\"UMAP‑1\"); plt.ylabel(\"UMAP‑2\")\n",
    "plt.grid(lw=0.3); plt.tight_layout(); plt.show()\n"
   ]
  },
  {
   "cell_type": "code",
   "execution_count": null,
   "metadata": {
    "id": "UgIX8yg4sq8k"
   },
   "outputs": [],
   "source": []
  }
 ],
 "metadata": {
  "accelerator": "GPU",
  "colab": {
   "collapsed_sections": [
    "QZMKmGokx1fd",
    "PL1h4xTpySvF",
    "a1RUE9vYzMWx",
    "mOppFC2Q00OI"
   ],
   "gpuType": "A100",
   "machine_shape": "hm",
   "provenance": []
  },
  "kernelspec": {
   "display_name": "Python 3 (ipykernel)",
   "language": "python",
   "name": "python3"
  },
  "language_info": {
   "codemirror_mode": {
    "name": "ipython",
    "version": 3
   },
   "file_extension": ".py",
   "mimetype": "text/x-python",
   "name": "python",
   "nbconvert_exporter": "python",
   "pygments_lexer": "ipython3",
   "version": "3.9.13"
  },
  "widgets": {
   "application/vnd.jupyter.widget-state+json": {
    "078f4b2546d546fab409c8f364f34e1f": {
     "model_module": "@jupyter-widgets/controls",
     "model_module_version": "1.5.0",
     "model_name": "HTMLModel",
     "state": {
      "_dom_classes": [],
      "_model_module": "@jupyter-widgets/controls",
      "_model_module_version": "1.5.0",
      "_model_name": "HTMLModel",
      "_view_count": null,
      "_view_module": "@jupyter-widgets/controls",
      "_view_module_version": "1.5.0",
      "_view_name": "HTMLView",
      "description": "",
      "description_tooltip": null,
      "layout": "IPY_MODEL_622f7804cd464d0cab2737b0e66dc394",
      "placeholder": "​",
      "style": "IPY_MODEL_a1d58a741ff1466f8922ee50876ae5d2",
      "value": " 127/331 [03:53&lt;03:04,  1.10it/s]"
     }
    },
    "0b7351ca03814c54ba7769cc6618596b": {
     "model_module": "@jupyter-widgets/controls",
     "model_module_version": "1.5.0",
     "model_name": "HTMLModel",
     "state": {
      "_dom_classes": [],
      "_model_module": "@jupyter-widgets/controls",
      "_model_module_version": "1.5.0",
      "_model_name": "HTMLModel",
      "_view_count": null,
      "_view_module": "@jupyter-widgets/controls",
      "_view_module_version": "1.5.0",
      "_view_name": "HTMLView",
      "description": "",
      "description_tooltip": null,
      "layout": "IPY_MODEL_7fbacd8276294889942146cfaa38a1a2",
      "placeholder": "​",
      "style": "IPY_MODEL_6670fc5e423a4e198f7631806ef7c9f2",
      "value": "Embedding genomes:  38%"
     }
    },
    "4205a0bb7d1d4b32a6577174cb62e6a9": {
     "model_module": "@jupyter-widgets/base",
     "model_module_version": "1.2.0",
     "model_name": "LayoutModel",
     "state": {
      "_model_module": "@jupyter-widgets/base",
      "_model_module_version": "1.2.0",
      "_model_name": "LayoutModel",
      "_view_count": null,
      "_view_module": "@jupyter-widgets/base",
      "_view_module_version": "1.2.0",
      "_view_name": "LayoutView",
      "align_content": null,
      "align_items": null,
      "align_self": null,
      "border": null,
      "bottom": null,
      "display": null,
      "flex": null,
      "flex_flow": null,
      "grid_area": null,
      "grid_auto_columns": null,
      "grid_auto_flow": null,
      "grid_auto_rows": null,
      "grid_column": null,
      "grid_gap": null,
      "grid_row": null,
      "grid_template_areas": null,
      "grid_template_columns": null,
      "grid_template_rows": null,
      "height": null,
      "justify_content": null,
      "justify_items": null,
      "left": null,
      "margin": null,
      "max_height": null,
      "max_width": null,
      "min_height": null,
      "min_width": null,
      "object_fit": null,
      "object_position": null,
      "order": null,
      "overflow": null,
      "overflow_x": null,
      "overflow_y": null,
      "padding": null,
      "right": null,
      "top": null,
      "visibility": null,
      "width": null
     }
    },
    "622f7804cd464d0cab2737b0e66dc394": {
     "model_module": "@jupyter-widgets/base",
     "model_module_version": "1.2.0",
     "model_name": "LayoutModel",
     "state": {
      "_model_module": "@jupyter-widgets/base",
      "_model_module_version": "1.2.0",
      "_model_name": "LayoutModel",
      "_view_count": null,
      "_view_module": "@jupyter-widgets/base",
      "_view_module_version": "1.2.0",
      "_view_name": "LayoutView",
      "align_content": null,
      "align_items": null,
      "align_self": null,
      "border": null,
      "bottom": null,
      "display": null,
      "flex": null,
      "flex_flow": null,
      "grid_area": null,
      "grid_auto_columns": null,
      "grid_auto_flow": null,
      "grid_auto_rows": null,
      "grid_column": null,
      "grid_gap": null,
      "grid_row": null,
      "grid_template_areas": null,
      "grid_template_columns": null,
      "grid_template_rows": null,
      "height": null,
      "justify_content": null,
      "justify_items": null,
      "left": null,
      "margin": null,
      "max_height": null,
      "max_width": null,
      "min_height": null,
      "min_width": null,
      "object_fit": null,
      "object_position": null,
      "order": null,
      "overflow": null,
      "overflow_x": null,
      "overflow_y": null,
      "padding": null,
      "right": null,
      "top": null,
      "visibility": null,
      "width": null
     }
    },
    "6670fc5e423a4e198f7631806ef7c9f2": {
     "model_module": "@jupyter-widgets/controls",
     "model_module_version": "1.5.0",
     "model_name": "DescriptionStyleModel",
     "state": {
      "_model_module": "@jupyter-widgets/controls",
      "_model_module_version": "1.5.0",
      "_model_name": "DescriptionStyleModel",
      "_view_count": null,
      "_view_module": "@jupyter-widgets/base",
      "_view_module_version": "1.2.0",
      "_view_name": "StyleView",
      "description_width": ""
     }
    },
    "721194a86f4b46d9ba281a17a7b0b3d8": {
     "model_module": "@jupyter-widgets/controls",
     "model_module_version": "1.5.0",
     "model_name": "FloatProgressModel",
     "state": {
      "_dom_classes": [],
      "_model_module": "@jupyter-widgets/controls",
      "_model_module_version": "1.5.0",
      "_model_name": "FloatProgressModel",
      "_view_count": null,
      "_view_module": "@jupyter-widgets/controls",
      "_view_module_version": "1.5.0",
      "_view_name": "ProgressView",
      "bar_style": "danger",
      "description": "",
      "description_tooltip": null,
      "layout": "IPY_MODEL_4205a0bb7d1d4b32a6577174cb62e6a9",
      "max": 331,
      "min": 0,
      "orientation": "horizontal",
      "style": "IPY_MODEL_b961c541254e43b68090a4330e62c666",
      "value": 127
     }
    },
    "7fbacd8276294889942146cfaa38a1a2": {
     "model_module": "@jupyter-widgets/base",
     "model_module_version": "1.2.0",
     "model_name": "LayoutModel",
     "state": {
      "_model_module": "@jupyter-widgets/base",
      "_model_module_version": "1.2.0",
      "_model_name": "LayoutModel",
      "_view_count": null,
      "_view_module": "@jupyter-widgets/base",
      "_view_module_version": "1.2.0",
      "_view_name": "LayoutView",
      "align_content": null,
      "align_items": null,
      "align_self": null,
      "border": null,
      "bottom": null,
      "display": null,
      "flex": null,
      "flex_flow": null,
      "grid_area": null,
      "grid_auto_columns": null,
      "grid_auto_flow": null,
      "grid_auto_rows": null,
      "grid_column": null,
      "grid_gap": null,
      "grid_row": null,
      "grid_template_areas": null,
      "grid_template_columns": null,
      "grid_template_rows": null,
      "height": null,
      "justify_content": null,
      "justify_items": null,
      "left": null,
      "margin": null,
      "max_height": null,
      "max_width": null,
      "min_height": null,
      "min_width": null,
      "object_fit": null,
      "object_position": null,
      "order": null,
      "overflow": null,
      "overflow_x": null,
      "overflow_y": null,
      "padding": null,
      "right": null,
      "top": null,
      "visibility": null,
      "width": null
     }
    },
    "87f8a4087b7a41df8168daae69593770": {
     "model_module": "@jupyter-widgets/base",
     "model_module_version": "1.2.0",
     "model_name": "LayoutModel",
     "state": {
      "_model_module": "@jupyter-widgets/base",
      "_model_module_version": "1.2.0",
      "_model_name": "LayoutModel",
      "_view_count": null,
      "_view_module": "@jupyter-widgets/base",
      "_view_module_version": "1.2.0",
      "_view_name": "LayoutView",
      "align_content": null,
      "align_items": null,
      "align_self": null,
      "border": null,
      "bottom": null,
      "display": null,
      "flex": null,
      "flex_flow": null,
      "grid_area": null,
      "grid_auto_columns": null,
      "grid_auto_flow": null,
      "grid_auto_rows": null,
      "grid_column": null,
      "grid_gap": null,
      "grid_row": null,
      "grid_template_areas": null,
      "grid_template_columns": null,
      "grid_template_rows": null,
      "height": null,
      "justify_content": null,
      "justify_items": null,
      "left": null,
      "margin": null,
      "max_height": null,
      "max_width": null,
      "min_height": null,
      "min_width": null,
      "object_fit": null,
      "object_position": null,
      "order": null,
      "overflow": null,
      "overflow_x": null,
      "overflow_y": null,
      "padding": null,
      "right": null,
      "top": null,
      "visibility": null,
      "width": null
     }
    },
    "a1d58a741ff1466f8922ee50876ae5d2": {
     "model_module": "@jupyter-widgets/controls",
     "model_module_version": "1.5.0",
     "model_name": "DescriptionStyleModel",
     "state": {
      "_model_module": "@jupyter-widgets/controls",
      "_model_module_version": "1.5.0",
      "_model_name": "DescriptionStyleModel",
      "_view_count": null,
      "_view_module": "@jupyter-widgets/base",
      "_view_module_version": "1.2.0",
      "_view_name": "StyleView",
      "description_width": ""
     }
    },
    "b961c541254e43b68090a4330e62c666": {
     "model_module": "@jupyter-widgets/controls",
     "model_module_version": "1.5.0",
     "model_name": "ProgressStyleModel",
     "state": {
      "_model_module": "@jupyter-widgets/controls",
      "_model_module_version": "1.5.0",
      "_model_name": "ProgressStyleModel",
      "_view_count": null,
      "_view_module": "@jupyter-widgets/base",
      "_view_module_version": "1.2.0",
      "_view_name": "StyleView",
      "bar_color": null,
      "description_width": ""
     }
    },
    "c2d01abf7188401abf1520d65408291d": {
     "model_module": "@jupyter-widgets/controls",
     "model_module_version": "1.5.0",
     "model_name": "HBoxModel",
     "state": {
      "_dom_classes": [],
      "_model_module": "@jupyter-widgets/controls",
      "_model_module_version": "1.5.0",
      "_model_name": "HBoxModel",
      "_view_count": null,
      "_view_module": "@jupyter-widgets/controls",
      "_view_module_version": "1.5.0",
      "_view_name": "HBoxView",
      "box_style": "",
      "children": [
       "IPY_MODEL_0b7351ca03814c54ba7769cc6618596b",
       "IPY_MODEL_721194a86f4b46d9ba281a17a7b0b3d8",
       "IPY_MODEL_078f4b2546d546fab409c8f364f34e1f"
      ],
      "layout": "IPY_MODEL_87f8a4087b7a41df8168daae69593770"
     }
    }
   }
  }
 },
 "nbformat": 4,
 "nbformat_minor": 4
}
